{
 "cells": [
  {
   "cell_type": "code",
   "execution_count": 1,
   "id": "9b3dab82-7dcf-406d-a9fe-832ce197d409",
   "metadata": {},
   "outputs": [
    {
     "name": "stdin",
     "output_type": "stream",
     "text": [
      "Enter the year of the car:  2023\n",
      "Enter the make of the car:  dodge\n",
      "Enter the model of the car:  ram\n",
      "Enter the number of doors (2 or 4):  4\n",
      "Enter the type of roof (solid or sun roof):  solid\n"
     ]
    },
    {
     "name": "stdout",
     "output_type": "stream",
     "text": [
      "Vehicle type: car\n",
      "Year: 2023\n",
      "Make: dodge\n",
      "Model: ram\n",
      "Number of doors: 4\n",
      "Type of roof: solid\n"
     ]
    }
   ],
   "source": [
    "\n",
    "\n",
    "# python\n",
    "# Student Name: Eric Jennings\n",
    "# File Name: vehicle_info.py\n",
    "# Description: This Python program defines classes to represent vehicles, with a focus on automobiles. \n",
    "# It allows the user to input details about a car and then displays the information in a formatted manner.\n",
    "\n",
    "class Vehicle:\n",
    "    def __init__(self, vehicle_type):\n",
    "        self.vehicle_type = vehicle_type\n",
    "\n",
    "class Automobile(Vehicle):\n",
    "    def __init__(self, vehicle_type, year, make, model, doors, roof):\n",
    "        super().__init__(vehicle_type)\n",
    "        self.year = year\n",
    "        self.make = make\n",
    "        self.model = model\n",
    "        self.doors = doors\n",
    "        self.roof = roof\n",
    "\n",
    "    def display_info(self):\n",
    "        print(\"Vehicle type:\", self.vehicle_type)\n",
    "        print(\"Year:\", self.year)\n",
    "        print(\"Make:\", self.make)\n",
    "        print(\"Model:\", self.model)\n",
    "        print(\"Number of doors:\", self.doors)\n",
    "        print(\"Type of roof:\", self.roof)\n",
    "\n",
    "def main():\n",
    "    vehicle_type = \"car\"  # As per the requirement, it's always a car\n",
    "    year = input(\"Enter the year of the car: \")\n",
    "    make = input(\"Enter the make of the car: \")\n",
    "    model = input(\"Enter the model of the car: \")\n",
    "    doors = input(\"Enter the number of doors (2 or 4): \")\n",
    "    roof = input(\"Enter the type of roof (solid or sun roof): \")\n",
    "\n",
    "    car = Automobile(vehicle_type, year, make, model, doors, roof)\n",
    "    car.display_info()\n",
    "\n",
    "if __name__ == \"__main__\":\n",
    "    main()\n"
   ]
  },
  {
   "cell_type": "code",
   "execution_count": null,
   "id": "de9e9451-21d1-46dd-88be-3b08900a398e",
   "metadata": {},
   "outputs": [],
   "source": []
  }
 ],
 "metadata": {
  "kernelspec": {
   "display_name": "Python 3 (ipykernel)",
   "language": "python",
   "name": "python3"
  },
  "language_info": {
   "codemirror_mode": {
    "name": "ipython",
    "version": 3
   },
   "file_extension": ".py",
   "mimetype": "text/x-python",
   "name": "python",
   "nbconvert_exporter": "python",
   "pygments_lexer": "ipython3",
   "version": "3.11.7"
  }
 },
 "nbformat": 4,
 "nbformat_minor": 5
}
