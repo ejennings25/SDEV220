{
 "cells": [
  {
   "cell_type": "code",
   "execution_count": 25,
   "id": "031be871-f378-4d7b-8084-7e7ad8b0d85a",
   "metadata": {},
   "outputs": [],
   "source": [
    "\n",
    "# 11.1 Create a file called zoo.py. In it, define a function called hours() that prints the string 'Open 9-5 daily'. \n",
    "# Then, use the interactive interpreter to import the zoo module and call its hours() function.\n",
    "\n",
    "    def hours():\n",
    "        \"\"\"Prints the zoo's opening hours.\"\"\"\n",
    "        print(\"Open 9-5 daily\")\n",
    "\n"
   ]
  },
  {
   "cell_type": "code",
   "execution_count": 133,
   "id": "a1cbd461-c07c-4070-9c66-7ec2db86b09b",
   "metadata": {},
   "outputs": [],
   "source": [
    "# Then, use the interactive interpreter to import the zoo module and call its hours() function.\n",
    "import zoo\n",
    "hours()\n",
    "    "
   ]
  },
  {
   "cell_type": "code",
   "execution_count": 135,
   "id": "c19a7871-4ae3-457a-add9-c9a6069f299c",
   "metadata": {},
   "outputs": [],
   "source": [
    "# 11.2 In the interactive interpreter, \n",
    "# import the zoo module as menagerie and call its hours() function.\n",
    ">>>import zoo as menagerie\n",
    "\n"
   ]
  },
  {
   "cell_type": "code",
   "execution_count": null,
   "id": "dbd516c8-2a81-4c84-8f44-73fbc40251c2",
   "metadata": {},
   "outputs": [],
   "source": [
    ">>>menagerie.hours()"
   ]
  },
  {
   "cell_type": "code",
   "execution_count": 170,
   "id": "63c4a82e-094c-4db0-9cd6-e34200c6a8ac",
   "metadata": {},
   "outputs": [],
   "source": [
    "for row in db.execute('select * from book order by year'):\n",
    "     print(row)"
   ]
  },
  {
   "cell_type": "code",
   "execution_count": null,
   "id": "ad0906bf-676f-40b6-ae34-d33f82cab31e",
   "metadata": {},
   "outputs": [],
   "source": [
    "\"\"\" 16.8 Use the sqlalchemy module to connect to the sqlite3 database books.db \n",
    "that you just made in exercise 16.4. As in 16.6, select and print the title column \n",
    "from the book table in alphabetical order.\"\"\"\n",
    "\n",
    "#imports the sqlalchemy module, which provides SQL toolkit and Object-Relational Mapping \n",
    "import sqlalchemy\n",
    "\n",
    "# creates a connection to the SQLite database 'books.db' using the create_engine() function. \n",
    "conn = sqlalchemy.create_engine('sqlite:///books.db')\n",
    "\n",
    "# SQL query to select the 'title' column from the 'book' table\n",
    "sql = 'select title from book order by title asc'\n",
    "rows = conn.execute(sql)\n",
    "for row in rows:\n",
    "     print(row)\n",
    "\n",
    "\n"
   ]
  },
  {
   "cell_type": "code",
   "execution_count": null,
   "id": "2692b34e-4e2b-40cd-ad3d-3884c26d3325",
   "metadata": {},
   "outputs": [],
   "source": []
  }
 ],
 "metadata": {
  "kernelspec": {
   "display_name": "Python 3 (ipykernel)",
   "language": "python",
   "name": "python3"
  },
  "language_info": {
   "codemirror_mode": {
    "name": "ipython",
    "version": 3
   },
   "file_extension": ".py",
   "mimetype": "text/x-python",
   "name": "python",
   "nbconvert_exporter": "python",
   "pygments_lexer": "ipython3",
   "version": "3.11.7"
  }
 },
 "nbformat": 4,
 "nbformat_minor": 5
}
