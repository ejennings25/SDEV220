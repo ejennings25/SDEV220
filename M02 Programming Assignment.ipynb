{
 "cells": [
  {
   "cell_type": "code",
   "execution_count": 1,
   "id": "a6d3e9a6-91a2-4267-9194-8f7615b19990",
   "metadata": {},
   "outputs": [
    {
     "name": "stdout",
     "output_type": "stream",
     "text": [
      "just right\n"
     ]
    }
   ],
   "source": [
    "# 4.1 Choose a number between 1 and 10 and assign it to the variable secret. \n",
    "# Then, select another number between 1 and 10 and assign it to the variable guess. \n",
    "# Next, write the conditional tests (if, else, and elif) to print the string 'too low' if guess is less than secret, 'too high' if greater than secret, and 'just right' if equal to secret.\n",
    "\n",
    "secret = 5\n",
    "guess = 5\n",
    "if guess == secret:\n",
    "    print('just right')\n",
    "elif guess > secret:\n",
    "    print('too high')\n",
    "else: \n",
    "    print('too low')\n",
    "\n"
   ]
  },
  {
   "cell_type": "code",
   "execution_count": 3,
   "id": "c1416988-beb0-4d0e-8ef7-e5ca65e02e4c",
   "metadata": {},
   "outputs": [
    {
     "name": "stdout",
     "output_type": "stream",
     "text": [
      "It's a cherry.\n"
     ]
    }
   ],
   "source": [
    "#4.2 Assign True or False to the variables small and green. \n",
    "#Write some if/else statements to print which of these matches those choices: cherry, pea, watermelon, pumpkin.\n",
    "small = True\n",
    "green = False\n",
    "\n",
    "if small:\n",
    "     if green:\n",
    "         print(\"It's a pea.\")\n",
    "     else:\n",
    "         print(\"It's a cherry.\")\n",
    "else:\n",
    "     if green:\n",
    "         print(\"It's a watermelon.\")\n",
    "     else:\n",
    "         print(\"It's a pumpkin.\")\n"
   ]
  },
  {
   "cell_type": "code",
   "execution_count": null,
   "id": "e8020151-2783-46f4-8681-31f41380cbc3",
   "metadata": {},
   "outputs": [],
   "source": [
    "# 6.1 Use a for loop to print the values of the list [3, 2, 1, 0].\n",
    "numbers = [3, 2, 1, 0]\n",
    "for number in numbers:\n",
    "    print(number)"
   ]
  },
  {
   "cell_type": "code",
   "execution_count": 1,
   "id": "dd6a9048-6276-4211-a6c7-e26e470bfa7a",
   "metadata": {},
   "outputs": [
    {
     "name": "stdout",
     "output_type": "stream",
     "text": [
      "too low\n",
      "too low\n",
      "too low\n",
      "too low\n",
      "too low\n",
      "too low\n",
      "found it!\n"
     ]
    }
   ],
   "source": [
    "# 6.2 Assign the value 7 to the variable guess_me, and the value 1 to the variable number. \n",
    "# Write a while loop that compares number with guess_me. Print 'too low' if number is less than guess me. \n",
    "# If number equals guess_me, print 'found it!' and then exit the loop. If number is greater than guess_me, print 'oops' and then exit the loop. \n",
    "# Increment number at the end of the loop.\n",
    "\n",
    "\n",
    "guess_me = 7\n",
    "number = 1\n",
    "\n",
    "while True:\n",
    "  if number < guess_me:\n",
    "    print(\"too low\")\n",
    "  elif number == guess_me:\n",
    "    print(\"found it!\")\n",
    "    break\n",
    "  else:\n",
    "    print(\"oops\")\n",
    "    break\n",
    "  number += 1\n",
    "\n"
   ]
  },
  {
   "cell_type": "code",
   "execution_count": 2,
   "id": "30da3ade-6566-4fa7-83dc-a380af42e165",
   "metadata": {},
   "outputs": [
    {
     "name": "stdout",
     "output_type": "stream",
     "text": [
      "too low\n",
      "too low\n",
      "too low\n",
      "too low\n",
      "too low\n",
      "found it\n"
     ]
    }
   ],
   "source": [
    "# 6.3 Assign the value 5 to the variable guess_me. Use a for loop to iterate a variable called number over range(10). \n",
    "# If number is less than guess_me, print 'too low'. If it equals guess_me, print found it! and then break out of the for loop. \n",
    "# If number is greater than guess_me, print 'oops' and then exit the loop.\n",
    "\n",
    "guess_me = 5\n",
    "for number in range(10):\n",
    "    if number < guess_me:\n",
    "        print(\"too low\")\n",
    "    elif number == guess_me:\n",
    "        print(\"found it\")\n",
    "        break\n",
    "else: \n",
    "        print(\"oops\")\n"
   ]
  },
  {
   "cell_type": "code",
   "execution_count": null,
   "id": "fa2059d7-6036-4ea0-8ac3-515cc63195aa",
   "metadata": {},
   "outputs": [],
   "source": []
  }
 ],
 "metadata": {
  "kernelspec": {
   "display_name": "Python 3 (ipykernel)",
   "language": "python",
   "name": "python3"
  },
  "language_info": {
   "codemirror_mode": {
    "name": "ipython",
    "version": 3
   },
   "file_extension": ".py",
   "mimetype": "text/x-python",
   "name": "python",
   "nbconvert_exporter": "python",
   "pygments_lexer": "ipython3",
   "version": "3.11.7"
  }
 },
 "nbformat": 4,
 "nbformat_minor": 5
}
